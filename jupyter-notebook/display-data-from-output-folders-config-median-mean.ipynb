{
 "cells": [
  {
   "cell_type": "code",
   "execution_count": 1,
   "id": "08f9937c",
   "metadata": {},
   "outputs": [
    {
     "data": {
      "text/html": [
       "<style>\n",
       ".output_wrapper, .output {\n",
       "    height:auto !important;\n",
       "    max-height: 100% !important;\n",
       "}\n",
       ".output_scroll {\n",
       "    box-shadow:none !important;\n",
       "    webkit-box-shadow:none !important;\n",
       "}\n",
       "</style>\n"
      ],
      "text/plain": [
       "<IPython.core.display.HTML object>"
      ]
     },
     "metadata": {},
     "output_type": "display_data"
    }
   ],
   "source": [
    "%%html\n",
    "<style>\n",
    ".output_wrapper, .output {\n",
    "    height:auto !important;\n",
    "    max-height: 100% !important;\n",
    "}\n",
    ".output_scroll {\n",
    "    box-shadow:none !important;\n",
    "    webkit-box-shadow:none !important;\n",
    "}\n",
    "</style>"
   ]
  },
  {
   "cell_type": "code",
   "execution_count": 2,
   "id": "c4f5235f",
   "metadata": {},
   "outputs": [],
   "source": [
    "import pandas as pd\n",
    "from IPython.display import display, HTML, clear_output\n",
    "import os\n",
    "from ipywidgets import interact, widgets\n",
    "\n",
    "pd.set_option('display.float_format', '{:.2f}'.format)\n",
    "pd.set_option('display.max_columns', None)\n",
    "pd.set_option('display.max_rows', None)\n"
   ]
  },
  {
   "cell_type": "code",
   "execution_count": 13,
   "id": "bd77a139",
   "metadata": {},
   "outputs": [
    {
     "name": "stdout",
     "output_type": "stream",
     "text": [
      "Input folder location\n",
      "E:\\BP\\bachelors-thesis-main\\output\\results\n"
     ]
    }
   ],
   "source": [
    "print(\"Input folder location\")\n",
    "folder = input()\n",
    "files = os.listdir(folder)\n",
    "#output\\results"
   ]
  },
  {
   "cell_type": "code",
   "execution_count": 16,
   "id": "c1fb8432",
   "metadata": {
    "scrolled": true
   },
   "outputs": [
    {
     "data": {
      "application/vnd.jupyter.widget-view+json": {
       "model_id": "01f32213a6cc482d9ebcc481bf295b30",
       "version_major": 2,
       "version_minor": 0
      },
      "text/plain": [
       "VBox(children=(Dropdown(options=('1Password, agilekeychain.csv', '1Password, cloudkeychain.csv', '3DES(PT=$sal…"
      ]
     },
     "metadata": {},
     "output_type": "display_data"
    }
   ],
   "source": [
    "def split_data_by_config(df):\n",
    "    tables = []\n",
    "    config_values = ['combinator', 'dict1', 'dict2', 'dict3', 'dict4', 'force', 'hybrid']\n",
    "    for config_value in config_values:\n",
    "        # Filter rows based on the configuration\n",
    "        table_data = df[df['CONFIG'] == config_value].drop(columns=['CONFIG'])\n",
    "        tables.append((config_value, table_data))\n",
    "    return tables\n",
    "\n",
    "def choose(file):\n",
    "    path = os.path.join(folder, file)\n",
    "    df = pd.read_csv(path, index_col=False)\n",
    "    df = df.round(4)\n",
    "\n",
    "    # Filter columns to only include the first two columns and columns with \"median\" or \"mean\" in their name\n",
    "    selected_cols = df.columns[:2].tolist() + [col for col in df.columns if \"median\" in col.lower() or \"mean\" in col.lower()]\n",
    "    df = df[selected_cols]\n",
    "\n",
    "    tables = split_data_by_config(df)\n",
    "\n",
    "    with output:\n",
    "        clear_output(wait=True)\n",
    "        for table_name, table_data in tables:\n",
    "            display(HTML(f'<h2>{table_name}</h2>'))\n",
    "            display(HTML('<div style=\"width: 100%; overflow-y: visible;\">'))\n",
    "            display(table_data)\n",
    "            display(HTML('</div>'))\n",
    "\n",
    "files = os.listdir(folder)\n",
    "\n",
    "output = widgets.Output(layout={'height': 'auto'})  # Auto height to fit content\n",
    "\n",
    "# Create the dropdown widget for files\n",
    "dropdown_widget = widgets.Dropdown(options=files)\n",
    "\n",
    "def on_file_change(change):\n",
    "    choose(change.new)\n",
    "\n",
    "dropdown_widget.observe(on_file_change, names='value')\n",
    "\n",
    "# Display the dropdown widget and the output widget in a VBox layout\n",
    "display(widgets.VBox([dropdown_widget, output]))"
   ]
  },
  {
   "cell_type": "code",
   "execution_count": 15,
   "id": "72b673b5",
   "metadata": {},
   "outputs": [
    {
     "data": {
      "application/vnd.jupyter.widget-view+json": {
       "model_id": "1a6721d057db4259978fe34045696238",
       "version_major": 2,
       "version_minor": 0
      },
      "text/plain": [
       "VBox(children=(Dropdown(options=('1Password, agilekeychain.csv', '1Password, cloudkeychain.csv', '3DES(PT=$sal…"
      ]
     },
     "metadata": {},
     "output_type": "display_data"
    }
   ],
   "source": [
    "def choose(file):\n",
    "    path = os.path.join(folder, file)\n",
    "    df = pd.read_csv(path, index_col=False)\n",
    "    df = df.round(4)\n",
    "\n",
    "    # Filter columns to only include the first two and specific columns\n",
    "    specific_cols = ['SPEED_MEDIAN', 'MEM_USED_MEDIAN', 'MEM_UTIL_MEDIAN']\n",
    "    selected_cols = df.columns[:2].tolist() + [col for col in specific_cols if col in df.columns]\n",
    "    df = df[selected_cols]\n",
    "\n",
    "    tables = split_data_by_config(df)\n",
    "\n",
    "    with output:\n",
    "        clear_output(wait=True)\n",
    "        for table_name, table_data in tables:\n",
    "            display(HTML(f'<h2>{table_name}</h2>'))\n",
    "            display(HTML('<div style=\"width: 100%; overflow-y: visible;\">'))\n",
    "            display(table_data)\n",
    "            display(HTML('</div>'))\n",
    "\n",
    "files = os.listdir(folder)\n",
    "\n",
    "output = widgets.Output(layout={'height': 'auto'})  # Auto height to fit content\n",
    "\n",
    "# Create the dropdown widget for files\n",
    "dropdown_widget = widgets.Dropdown(options=files)\n",
    "\n",
    "def on_file_change(change):\n",
    "    choose(change.new)\n",
    "\n",
    "dropdown_widget.observe(on_file_change, names='value')\n",
    "\n",
    "# Display the dropdown widget and the output widget in a VBox layout\n",
    "display(widgets.VBox([dropdown_widget, output]))\n"
   ]
  },
  {
   "cell_type": "code",
   "execution_count": null,
   "id": "929c6f5f",
   "metadata": {},
   "outputs": [],
   "source": []
  }
 ],
 "metadata": {
  "kernelspec": {
   "display_name": "Python 3 (ipykernel)",
   "language": "python",
   "name": "python3"
  },
  "language_info": {
   "codemirror_mode": {
    "name": "ipython",
    "version": 3
   },
   "file_extension": ".py",
   "mimetype": "text/x-python",
   "name": "python",
   "nbconvert_exporter": "python",
   "pygments_lexer": "ipython3",
   "version": "3.10.11"
  }
 },
 "nbformat": 4,
 "nbformat_minor": 5
}
