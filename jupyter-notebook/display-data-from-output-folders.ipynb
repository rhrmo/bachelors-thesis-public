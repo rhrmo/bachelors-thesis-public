{
 "cells": [
  {
   "cell_type": "code",
   "execution_count": 5,
   "id": "119906d9",
   "metadata": {},
   "outputs": [
    {
     "data": {
      "text/html": [
       "<style>\n",
       ".output_wrapper, .output {\n",
       "    height:auto !important;\n",
       "    max-height: 100% !important;\n",
       "}\n",
       ".output_scroll {\n",
       "    box-shadow:none !important;\n",
       "    webkit-box-shadow:none !important;\n",
       "}\n",
       "</style>\n"
      ],
      "text/plain": [
       "<IPython.core.display.HTML object>"
      ]
     },
     "metadata": {},
     "output_type": "display_data"
    }
   ],
   "source": [
    "%%html\n",
    "<style>\n",
    ".output_wrapper, .output {\n",
    "    height:auto !important;\n",
    "    max-height: 100% !important;\n",
    "}\n",
    ".output_scroll {\n",
    "    box-shadow:none !important;\n",
    "    webkit-box-shadow:none !important;\n",
    "}\n",
    "</style>"
   ]
  },
  {
   "cell_type": "code",
   "execution_count": 6,
   "id": "c4f5235f",
   "metadata": {},
   "outputs": [],
   "source": [
    "import pandas as pd\n",
    "from IPython.display import display, HTML, clear_output\n",
    "import os\n",
    "from ipywidgets import interact, widgets\n",
    "\n",
    "pd.set_option('display.float_format', '{:.2f}'.format)\n",
    "pd.set_option('display.max_columns', None)\n",
    "pd.set_option('display.max_rows', None)\n"
   ]
  },
  {
   "cell_type": "code",
   "execution_count": 9,
   "id": "bd77a139",
   "metadata": {
    "scrolled": true
   },
   "outputs": [
    {
     "name": "stdout",
     "output_type": "stream",
     "text": [
      "Input folder location\n",
      "E:\\BP\\bachelors-thesis-main\\output\\results\n"
     ]
    }
   ],
   "source": [
    "print(\"Input folder location\")\n",
    "folder = input()\n",
    "files = os.listdir(folder)\n",
    "#output\\results\\\n",
    "#output\\results-together\\"
   ]
  },
  {
   "cell_type": "code",
   "execution_count": 10,
   "id": "c1fb8432",
   "metadata": {},
   "outputs": [
    {
     "data": {
      "application/vnd.jupyter.widget-view+json": {
       "model_id": "2db8da1a8b9b40259427a9b9de476bab",
       "version_major": 2,
       "version_minor": 0
      },
      "text/plain": [
       "VBox(children=(Dropdown(options=('1Password, agilekeychain.csv', '1Password, cloudkeychain.csv', '3DES(PT=$sal…"
      ]
     },
     "metadata": {},
     "output_type": "display_data"
    }
   ],
   "source": [
    "def choose(file):\n",
    "    path = os.path.join(folder, file)\n",
    "    df = pd.read_csv(path, index_col=False)\n",
    "    df = df.round(4)\n",
    "    with output:\n",
    "        clear_output(wait=True)\n",
    "        display(HTML('<div style=\"width: 100%; overflow: auto;\">'))\n",
    "        display(df)\n",
    "        display(HTML('</div>'))\n",
    "\n",
    "files = os.listdir(folder)\n",
    "\n",
    "output = widgets.Output(layout={'height': 'auto'})  # Auto height to fit content\n",
    "\n",
    "dropdown_widget = widgets.Dropdown(options=files)\n",
    "dropdown_widget.observe(lambda change: choose(change.new), names='value')\n",
    "\n",
    "# Display the dropdown widget and the output widget in a VBox layout\n",
    "display(widgets.VBox([dropdown_widget, output]))\n"
   ]
  },
  {
   "cell_type": "code",
   "execution_count": null,
   "id": "f6eed519",
   "metadata": {},
   "outputs": [],
   "source": []
  }
 ],
 "metadata": {
  "kernelspec": {
   "display_name": "Python 3 (ipykernel)",
   "language": "python",
   "name": "python3"
  },
  "language_info": {
   "codemirror_mode": {
    "name": "ipython",
    "version": 3
   },
   "file_extension": ".py",
   "mimetype": "text/x-python",
   "name": "python",
   "nbconvert_exporter": "python",
   "pygments_lexer": "ipython3",
   "version": "3.10.11"
  }
 },
 "nbformat": 4,
 "nbformat_minor": 5
}
