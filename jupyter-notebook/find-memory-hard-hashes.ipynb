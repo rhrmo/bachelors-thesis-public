{
 "cells": [
  {
   "cell_type": "code",
   "execution_count": 4,
   "id": "1eaca1ea",
   "metadata": {},
   "outputs": [
    {
     "name": "stdout",
     "output_type": "stream",
     "text": [
      "Input folder location\n",
      "E:\\BP\\bachelors-thesis-main\\output\\results\n"
     ]
    }
   ],
   "source": [
    "import os\n",
    "import pandas as pd\n",
    "\n",
    "print(\"Input folder location\")\n",
    "folder = input()\n",
    "files = os.listdir(folder)\n",
    "#\\output\\results"
   ]
  },
  {
   "cell_type": "code",
   "execution_count": 6,
   "id": "ec6c5ef2",
   "metadata": {},
   "outputs": [],
   "source": [
    "def add_cols_to_df(df):\n",
    "    df['PROCESSORS'] = None\n",
    "    df['BASE_CLOCK'] = None\n",
    "    df['BOOST_CLOCK'] = None\n",
    "    df['MEMORY_CONFIG'] = None\n",
    "    df['INTERFACE_WIDTH'] = None\n",
    "    \n",
    "    for index, row in df.iterrows():\n",
    "        gpu_name = row['GPU']\n",
    "        match gpu_name:\n",
    "            case \"Radeon RX Vega\":\n",
    "                df.at[index, 'PROCESSORS'] = 4096\n",
    "                df.at[index, 'BASE_CLOCK'] = 1.25\n",
    "                df.at[index, 'BOOST_CLOCK'] = 1.55\n",
    "                df.at[index, 'MEMORY_CONFIG'] = 8\n",
    "                df.at[index, 'INTERFACE_WIDTH'] = 2048\n",
    "            case \"NVIDIA GeForce GTX 1080 Ti\":\n",
    "                df.at[index, 'PROCESSORS'] = 3584\n",
    "                df.at[index, 'BASE_CLOCK'] = 1.48\n",
    "                df.at[index, 'BOOST_CLOCK'] = 1.58\n",
    "                df.at[index, 'MEMORY_CONFIG'] = 11\n",
    "                df.at[index, 'INTERFACE_WIDTH'] = 352\n",
    "            case \"NVIDIA GeForce RTX 2080 SUPER\":\n",
    "                df.at[index, 'PROCESSORS'] = 3072\n",
    "                df.at[index, 'BASE_CLOCK'] = 1.65\n",
    "                df.at[index, 'BOOST_CLOCK'] = 1.82\n",
    "                df.at[index, 'MEMORY_CONFIG'] = 8\n",
    "                df.at[index, 'INTERFACE_WIDTH'] = 256\n",
    "            case \"NVIDIA GeForce RTX 3070\":\n",
    "                df.at[index, 'PROCESSORS'] = 5888\n",
    "                df.at[index, 'BASE_CLOCK'] = 1.50\n",
    "                df.at[index, 'BOOST_CLOCK'] = 1.73\n",
    "                df.at[index, 'MEMORY_CONFIG'] = 8\n",
    "                df.at[index, 'INTERFACE_WIDTH'] = 256\n",
    "            case \"NVIDIA GeForce RTX 3090\":\n",
    "                df.at[index, 'PROCESSORS'] = 10496\n",
    "                df.at[index, 'BASE_CLOCK'] = 1.40\n",
    "                df.at[index, 'BOOST_CLOCK'] = 1.70\n",
    "                df.at[index, 'MEMORY_CONFIG'] = 24\n",
    "                df.at[index, 'INTERFACE_WIDTH'] = 384\n",
    "            case \"NVIDIA RTX A4000\":\n",
    "                df.at[index, 'PROCESSORS'] = 6144\n",
    "                df.at[index, 'BASE_CLOCK'] = 0.74\n",
    "                df.at[index, 'BOOST_CLOCK'] = 1.56\n",
    "                df.at[index, 'MEMORY_CONFIG'] = 16\n",
    "                df.at[index, 'INTERFACE_WIDTH'] = 256\n",
    "    return df\n"
   ]
  },
  {
   "cell_type": "code",
   "execution_count": 7,
   "id": "98b75242",
   "metadata": {},
   "outputs": [
    {
     "name": "stdout",
     "output_type": "stream",
     "text": [
      "DiskCryptor SHA512 + XTS 1024 bit (Serpent-AES).csv\n",
      "DiskCryptor SHA512 + XTS 1024 bit (Twofish-Serpent).csv\n",
      "DiskCryptor SHA512 + XTS 512 bit (Serpent).csv\n",
      "ExodusDesktopWallet(scrypt).csv\n",
      "MultiBitClassic.wallet(scrypt).csv\n",
      "MultiBitHD(scrypt).csv\n",
      "SNMPv3HMAC-MD5-96-HMAC-SHA1-968.csv\n",
      "SNMPv3HMAC-MD5-968.csv\n",
      "SNMPv3HMAC-SHA1-968.csv\n",
      "SNMPv3HMAC-SHA224-1288.csv\n",
      "SNMPv3HMAC-SHA256-19288.csv\n",
      "SNMPv3HMAC-SHA384-2568.csv\n",
      "SNMPv3HMAC-SHA512-3848.csv\n",
      "SolarWindsOrion.csv\n",
      "SolarWindsOrionv2.csv\n",
      "TrueCrypt 5.0+ PBKDF2-HMAC-RIPEMD160 + Serpent-AES + boot (legacy).csv\n"
     ]
    }
   ],
   "source": [
    "for file in files:\n",
    "    path = os.path.join(folder, file)\n",
    "    df = pd.read_csv(path, index_col=False)\n",
    "    \n",
    "    # Check if 'MEM_UTIL_MEDIAN' is higher than 70\n",
    "    if df['MEM_UTIL_MEDIAN'].median() > 70:\n",
    "        df = add_cols_to_df(df)\n",
    "    \n",
    "        # Handle NaN values in the dataframe\n",
    "        df.fillna(0, inplace=True)\n",
    "        \n",
    "        df_to_corr = df.iloc[:, 2:]\n",
    "        matrix = df_to_corr.corr()\n",
    "\n",
    "        # Find the positive correlation between 'SPEED_MEDIAN' and 'MEM_USED_MEDIAN'\n",
    "        speed_mem_corr = matrix.loc['SPEED_MEDIAN', 'MEM_USED_MEDIAN']\n",
    "        print(f\"{file}\")\n"
   ]
  },
  {
   "cell_type": "code",
   "execution_count": null,
   "id": "72bed823",
   "metadata": {},
   "outputs": [],
   "source": []
  }
 ],
 "metadata": {
  "kernelspec": {
   "display_name": "Python 3 (ipykernel)",
   "language": "python",
   "name": "python3"
  },
  "language_info": {
   "codemirror_mode": {
    "name": "ipython",
    "version": 3
   },
   "file_extension": ".py",
   "mimetype": "text/x-python",
   "name": "python",
   "nbconvert_exporter": "python",
   "pygments_lexer": "ipython3",
   "version": "3.10.11"
  }
 },
 "nbformat": 4,
 "nbformat_minor": 5
}
