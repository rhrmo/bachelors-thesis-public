{
 "cells": [
  {
   "cell_type": "code",
   "execution_count": 1,
   "id": "f3e82cee",
   "metadata": {},
   "outputs": [
    {
     "data": {
      "text/html": [
       "<style>\n",
       ".output_wrapper, .output {\n",
       "    height:auto !important;\n",
       "    max-height: 100% !important;\n",
       "}\n",
       ".output_scroll {\n",
       "    box-shadow:none !important;\n",
       "    webkit-box-shadow:none !important;\n",
       "}\n",
       "</style>\n"
      ],
      "text/plain": [
       "<IPython.core.display.HTML object>"
      ]
     },
     "metadata": {},
     "output_type": "display_data"
    }
   ],
   "source": [
    "%%html\n",
    "<style>\n",
    ".output_wrapper, .output {\n",
    "    height:auto !important;\n",
    "    max-height: 100% !important;\n",
    "}\n",
    ".output_scroll {\n",
    "    box-shadow:none !important;\n",
    "    webkit-box-shadow:none !important;\n",
    "}\n",
    "</style>"
   ]
  },
  {
   "cell_type": "code",
   "execution_count": 2,
   "id": "ae83941a",
   "metadata": {},
   "outputs": [
    {
     "data": {
      "text/html": [
       "<style>.container { width:100% !important; }</style>"
      ],
      "text/plain": [
       "<IPython.core.display.HTML object>"
      ]
     },
     "metadata": {},
     "output_type": "display_data"
    }
   ],
   "source": [
    "import pandas as pd\n",
    "from IPython.display import display, HTML, clear_output\n",
    "import os\n",
    "from ipywidgets import interact, widgets\n",
    "import numpy as np\n",
    "import matplotlib.pyplot as plt\n",
    "display(HTML(\"<style>.container { width:100% !important; }</style>\"))\n",
    "\n",
    "pd.set_option('display.float_format', '{:.4f}'.format)\n",
    "pd.set_option('display.max_columns', None)\n",
    "pd.set_option('display.max_rows', None)\n",
    "\n",
    "def choose(change):\n",
    "    file = change['new']\n",
    "    path = os.path.join(folder, file)\n",
    "    df = pd.read_csv(path, index_col=False)\n",
    "    df = add_cols_to_df(df)\n",
    "    \n",
    "    # Handle NaN values in the dataframe\n",
    "    df.fillna(0, inplace=True)\n",
    "    \n",
    "    df_to_corr = df.iloc[:, 2:]\n",
    "    matrix = df_to_corr.corr()\n",
    "    \n",
    "    with output:\n",
    "        clear_output(wait=True)\n",
    "        display(HTML('<div style=\"width: 100%; overflow: auto;\">'))\n",
    "        display(HTML('<H3><center>' + os.path.splitext(file)[0]))\n",
    "        display(matrix.style.background_gradient(cmap='coolwarm'))\n",
    "        display(HTML('</div>'))\n",
    "        plt.figure(figsize=(10, 8))\n",
    "        plt.imshow(matrix, cmap='coolwarm', interpolation='nearest')\n",
    "        plt.colorbar()\n",
    "        plt.xticks(np.arange(len(df.columns[2:])), df.columns[2:], rotation=90)\n",
    "        plt.yticks(np.arange(len(df.columns[2:])), df.columns[2:])\n",
    "        #plt.title('Correlation Matrix')\n",
    "        plt.show()"
   ]
  },
  {
   "cell_type": "code",
   "execution_count": 3,
   "id": "70fa7b43",
   "metadata": {},
   "outputs": [
    {
     "name": "stdout",
     "output_type": "stream",
     "text": [
      "Input folder location\n",
      "E:\\BP\\bachelors-thesis-main\\output\\results\n"
     ]
    }
   ],
   "source": [
    "print(\"Input folder location\")\n",
    "folder = input()\n",
    "files = os.listdir(folder)\n",
    "#\\output\\results"
   ]
  },
  {
   "cell_type": "code",
   "execution_count": 4,
   "id": "d18d580c",
   "metadata": {},
   "outputs": [],
   "source": [
    "def add_cols_to_df(df):\n",
    "    df['PROCESSORS'] = None\n",
    "    df['BASE_CLOCK'] = None\n",
    "    df['BOOST_CLOCK'] = None\n",
    "    df['MEMORY_CONFIG'] = None\n",
    "    df['INTERFACE_WIDTH'] = None\n",
    "    \n",
    "    for index, row in df.iterrows():\n",
    "        gpu_name = row['GPU']\n",
    "        match gpu_name:\n",
    "            case \"Radeon RX Vega\":\n",
    "                df.at[index, 'PROCESSORS'] = 4096\n",
    "                df.at[index, 'BASE_CLOCK'] = 1.25\n",
    "                df.at[index, 'BOOST_CLOCK'] = 1.55\n",
    "                df.at[index, 'MEMORY_CONFIG'] = 8\n",
    "                df.at[index, 'INTERFACE_WIDTH'] = 2048\n",
    "            case \"NVIDIA GeForce GTX 1080 Ti\":\n",
    "                df.at[index, 'PROCESSORS'] = 3584\n",
    "                df.at[index, 'BASE_CLOCK'] = 1.48\n",
    "                df.at[index, 'BOOST_CLOCK'] = 1.58\n",
    "                df.at[index, 'MEMORY_CONFIG'] = 11\n",
    "                df.at[index, 'INTERFACE_WIDTH'] = 352\n",
    "            case \"NVIDIA GeForce RTX 2080 SUPER\":\n",
    "                df.at[index, 'PROCESSORS'] = 3072\n",
    "                df.at[index, 'BASE_CLOCK'] = 1.65\n",
    "                df.at[index, 'BOOST_CLOCK'] = 1.82\n",
    "                df.at[index, 'MEMORY_CONFIG'] = 8\n",
    "                df.at[index, 'INTERFACE_WIDTH'] = 256\n",
    "            case \"NVIDIA GeForce RTX 3070\":\n",
    "                df.at[index, 'PROCESSORS'] = 5888\n",
    "                df.at[index, 'BASE_CLOCK'] = 1.50\n",
    "                df.at[index, 'BOOST_CLOCK'] = 1.73\n",
    "                df.at[index, 'MEMORY_CONFIG'] = 8\n",
    "                df.at[index, 'INTERFACE_WIDTH'] = 256\n",
    "            case \"NVIDIA GeForce RTX 3090\":\n",
    "                df.at[index, 'PROCESSORS'] = 10496\n",
    "                df.at[index, 'BASE_CLOCK'] = 1.40\n",
    "                df.at[index, 'BOOST_CLOCK'] = 1.70\n",
    "                df.at[index, 'MEMORY_CONFIG'] = 24\n",
    "                df.at[index, 'INTERFACE_WIDTH'] = 384\n",
    "            case \"NVIDIA RTX A4000\":\n",
    "                df.at[index, 'PROCESSORS'] = 6144\n",
    "                df.at[index, 'BASE_CLOCK'] = 0.74\n",
    "                df.at[index, 'BOOST_CLOCK'] = 1.56\n",
    "                df.at[index, 'MEMORY_CONFIG'] = 16\n",
    "                df.at[index, 'INTERFACE_WIDTH'] = 256\n",
    "    return df\n"
   ]
  },
  {
   "cell_type": "code",
   "execution_count": 5,
   "id": "56dc5b92",
   "metadata": {},
   "outputs": [
    {
     "data": {
      "application/vnd.jupyter.widget-view+json": {
       "model_id": "69d7a26a0cbd4ce2ace30982b8b25de0",
       "version_major": 2,
       "version_minor": 0
      },
      "text/plain": [
       "Dropdown(options=('1Password, agilekeychain.csv', '1Password, cloudkeychain.csv', '3DES(PT=$salt,key=$pass).cs…"
      ]
     },
     "metadata": {},
     "output_type": "display_data"
    },
    {
     "data": {
      "application/vnd.jupyter.widget-view+json": {
       "model_id": "72a946e35bd24380b4749457115ebc96",
       "version_major": 2,
       "version_minor": 0
      },
      "text/plain": [
       "Output()"
      ]
     },
     "metadata": {},
     "output_type": "display_data"
    }
   ],
   "source": [
    "if len(files) > 0:\n",
    "    selected_file = files[0]\n",
    "else:\n",
    "    selected_file = None\n",
    "\n",
    "output = widgets.Output()\n",
    "dropdown = widgets.Dropdown(options=files, value=selected_file)\n",
    "dropdown.observe(choose, names='value')\n",
    "\n",
    "if selected_file:\n",
    "    choose({'new': selected_file})\n",
    "\n",
    "display(dropdown)\n",
    "display(output)"
   ]
  },
  {
   "cell_type": "code",
   "execution_count": 6,
   "id": "702efd77",
   "metadata": {},
   "outputs": [
    {
     "data": {
      "application/vnd.jupyter.widget-view+json": {
       "model_id": "a619577acc824d63a5bae1dc089f15f9",
       "version_major": 2,
       "version_minor": 0
      },
      "text/plain": [
       "Dropdown(index=429, options=('1Password, agilekeychain.csv', '1Password, cloudkeychain.csv', '3DES(PT=$salt,ke…"
      ]
     },
     "metadata": {},
     "output_type": "display_data"
    },
    {
     "data": {
      "application/vnd.jupyter.widget-view+json": {
       "model_id": "b9383e5a035a48d9b2ab427262eb6cf6",
       "version_major": 2,
       "version_minor": 0
      },
      "text/plain": [
       "Output()"
      ]
     },
     "metadata": {},
     "output_type": "display_data"
    }
   ],
   "source": [
    "import os\n",
    "import pandas as pd\n",
    "import numpy as np\n",
    "import matplotlib.pyplot as plt\n",
    "import ipywidgets as widgets\n",
    "from IPython.display import display, clear_output, HTML\n",
    "\n",
    "def choose(change):\n",
    "    file = change['new']\n",
    "    path = os.path.join(folder, file)\n",
    "    df = pd.read_csv(path, index_col=False)\n",
    "    \n",
    "    # Filter only the columns containing 'MEDIAN', 'GPU', or 'CONFIG'\n",
    "    relevant_columns = df.columns[df.columns.str.contains('MEDIAN') | df.columns.str.contains('GPU') | df.columns.str.contains('CONFIG')]\n",
    "    df = df[relevant_columns]\n",
    "    \n",
    "    # Add additional columns to the filtered DataFrame\n",
    "    df = add_cols_to_df(df)\n",
    "    \n",
    "    # Handle NaN values in the dataframe\n",
    "    df.fillna(0, inplace=True)\n",
    "       \n",
    "    # Filter to show only specific columns in the table and heatmap\n",
    "    specific_cols = ['SPEED_MEDIAN', 'MEM_USED_MEDIAN', 'MEM_UTIL_MEDIAN', 'PROCESSORS', 'BASE_CLOCK', 'BOOST_CLOCK', 'MEMORY_CONFIG', 'INTERFACE_WIDTH']\n",
    "    df_to_corr = df[specific_cols]\n",
    "    \n",
    "    matrix = df_to_corr.corr()\n",
    "    \n",
    "    with output:\n",
    "        clear_output(wait=True)\n",
    "        display(HTML('<div style=\"width: 100%; overflow: auto;\">'))\n",
    "        display(HTML('<H3><center>' + os.path.splitext(file)[0]))\n",
    "        display(matrix.style.background_gradient(cmap='coolwarm'))\n",
    "        display(HTML('</div>'))\n",
    "        plt.figure(figsize=(10, 8))\n",
    "        plt.imshow(matrix, cmap='coolwarm', interpolation='nearest')\n",
    "        plt.colorbar()\n",
    "        plt.xticks(np.arange(len(specific_cols)), specific_cols, rotation=90)\n",
    "        plt.yticks(np.arange(len(specific_cols)), specific_cols)\n",
    "        #plt.title('Correlation Matrix')\n",
    "        plt.show()\n",
    "        \n",
    "if len(files) > 0:\n",
    "    # Filter files based on 'MEM_UTIL_MEDIAN' > 70\n",
    "    filtered_files = [file for file in files if pd.read_csv(os.path.join(folder, file))['MEM_UTIL_MEDIAN'].median() > 70]\n",
    "    selected_file = filtered_files[0] if filtered_files else None\n",
    "else:\n",
    "    selected_file = None\n",
    "\n",
    "output = widgets.Output()\n",
    "dropdown = widgets.Dropdown(options=files, value=selected_file)\n",
    "dropdown.observe(choose, names='value')\n",
    "\n",
    "if selected_file:\n",
    "    choose({'new': selected_file})\n",
    "\n",
    "display(dropdown)\n",
    "display(output)"
   ]
  },
  {
   "cell_type": "code",
   "execution_count": 7,
   "id": "e18dcbf5",
   "metadata": {},
   "outputs": [
    {
     "data": {
      "application/vnd.jupyter.widget-view+json": {
       "model_id": "2d10b7f7b6244b0fac65d8d2d6fd9f56",
       "version_major": 2,
       "version_minor": 0
      },
      "text/plain": [
       "Dropdown(index=429, options=('1Password, agilekeychain.csv', '1Password, cloudkeychain.csv', '3DES(PT=$salt,ke…"
      ]
     },
     "metadata": {},
     "output_type": "display_data"
    },
    {
     "data": {
      "application/vnd.jupyter.widget-view+json": {
       "model_id": "085995f37c7a4bc08804958840e70de6",
       "version_major": 2,
       "version_minor": 0
      },
      "text/plain": [
       "Output()"
      ]
     },
     "metadata": {},
     "output_type": "display_data"
    }
   ],
   "source": [
    "import os\n",
    "import pandas as pd\n",
    "import numpy as np\n",
    "import matplotlib.pyplot as plt\n",
    "import ipywidgets as widgets\n",
    "from IPython.display import display, clear_output, HTML\n",
    "\n",
    "def choose(change):\n",
    "    file = change['new']\n",
    "    path = os.path.join(folder, file)\n",
    "    df = pd.read_csv(path, index_col=False)\n",
    "    \n",
    "    # Filter only the columns containing 'MEDIAN', 'GPU', or 'CONFIG'\n",
    "    relevant_columns = df.columns[df.columns.str.contains('MEDIAN') | df.columns.str.contains('GPU') | df.columns.str.contains('CONFIG')]\n",
    "    df = df[relevant_columns]\n",
    "    \n",
    "    # Add additional columns to the filtered DataFrame\n",
    "    df = add_cols_to_df(df)\n",
    "    \n",
    "    # Handle NaN values in the dataframe\n",
    "    df.fillna(0, inplace=True)\n",
    "       \n",
    "    df_to_corr = df.iloc[:, 2:]\n",
    "    matrix = df_to_corr.corr()\n",
    "    \n",
    "    with output:\n",
    "        clear_output(wait=True)\n",
    "        display(HTML('<div style=\"width: 100%; overflow: auto;\">'))\n",
    "        display(HTML('<H3><center>' + os.path.splitext(file)[0]))\n",
    "        display(matrix.style.background_gradient(cmap='coolwarm'))\n",
    "        display(HTML('</div>'))\n",
    "        plt.figure(figsize=(10, 8))\n",
    "        plt.imshow(matrix, cmap='coolwarm', interpolation='nearest')\n",
    "        plt.colorbar()\n",
    "        plt.xticks(np.arange(len(df.columns[2:])), df.columns[2:], rotation=90)\n",
    "        plt.yticks(np.arange(len(df.columns[2:])), df.columns[2:])\n",
    "        #plt.title('Correlation Matrix')\n",
    "        plt.show()\n",
    "        \n",
    "if len(files) > 0:\n",
    "    # Filter files based on 'MEM_UTIL_MEDIAN' > 70\n",
    "    filtered_files = [file for file in files if pd.read_csv(os.path.join(folder, file))['MEM_UTIL_MEDIAN'].median() > 70]\n",
    "    selected_file = filtered_files[0] if filtered_files else None\n",
    "else:\n",
    "    selected_file = None\n",
    "\n",
    "output = widgets.Output()\n",
    "dropdown = widgets.Dropdown(options=files, value=selected_file)\n",
    "dropdown.observe(choose, names='value')\n",
    "\n",
    "if selected_file:\n",
    "    choose({'new': selected_file})\n",
    "\n",
    "display(dropdown)\n",
    "display(output)"
   ]
  }
 ],
 "metadata": {
  "kernelspec": {
   "display_name": "Python 3 (ipykernel)",
   "language": "python",
   "name": "python3"
  },
  "language_info": {
   "codemirror_mode": {
    "name": "ipython",
    "version": 3
   },
   "file_extension": ".py",
   "mimetype": "text/x-python",
   "name": "python",
   "nbconvert_exporter": "python",
   "pygments_lexer": "ipython3",
   "version": "3.10.11"
  }
 },
 "nbformat": 4,
 "nbformat_minor": 5
}
