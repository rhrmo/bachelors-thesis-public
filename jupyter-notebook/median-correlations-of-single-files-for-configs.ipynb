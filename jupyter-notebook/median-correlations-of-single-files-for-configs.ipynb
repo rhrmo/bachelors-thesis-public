{
 "cells": [
  {
   "cell_type": "code",
   "execution_count": 1,
   "id": "8b393f3c",
   "metadata": {},
   "outputs": [
    {
     "data": {
      "text/html": [
       "<style>\n",
       ".output_wrapper, .output {\n",
       "    height:auto !important;\n",
       "    max-height: 100% !important;\n",
       "}\n",
       ".output_scroll {\n",
       "    box-shadow:none !important;\n",
       "    webkit-box-shadow:none !important;\n",
       "}\n",
       "</style>\n"
      ],
      "text/plain": [
       "<IPython.core.display.HTML object>"
      ]
     },
     "metadata": {},
     "output_type": "display_data"
    }
   ],
   "source": [
    "%%html\n",
    "<style>\n",
    ".output_wrapper, .output {\n",
    "    height:auto !important;\n",
    "    max-height: 100% !important;\n",
    "}\n",
    ".output_scroll {\n",
    "    box-shadow:none !important;\n",
    "    webkit-box-shadow:none !important;\n",
    "}\n",
    "</style>"
   ]
  },
  {
   "cell_type": "code",
   "execution_count": 2,
   "id": "0fb8d089",
   "metadata": {},
   "outputs": [
    {
     "data": {
      "text/html": [
       "<style>.container { width:100% !important; }</style>"
      ],
      "text/plain": [
       "<IPython.core.display.HTML object>"
      ]
     },
     "metadata": {},
     "output_type": "display_data"
    }
   ],
   "source": [
    "import pandas as pd\n",
    "from IPython.display import display, HTML, clear_output\n",
    "import os\n",
    "from ipywidgets import interact, widgets\n",
    "import numpy as np\n",
    "import matplotlib.pyplot as plt\n",
    "display(HTML(\"<style>.container { width:100% !important; }</style>\"))\n",
    "\n",
    "pd.set_option('display.float_format', '{:.4f}'.format)\n",
    "pd.set_option('display.max_columns', None)\n",
    "pd.set_option('display.max_rows', None)"
   ]
  },
  {
   "cell_type": "code",
   "execution_count": 3,
   "id": "8e9e87dc",
   "metadata": {
    "scrolled": true
   },
   "outputs": [
    {
     "name": "stdout",
     "output_type": "stream",
     "text": [
      "Input folder location\n",
      "E:\\BP\\bachelors-thesis-main\\output\\results\n"
     ]
    }
   ],
   "source": [
    "print(\"Input folder location\")\n",
    "folder = input()\n",
    "files = os.listdir(folder)\n",
    "#\\output\\results"
   ]
  },
  {
   "cell_type": "code",
   "execution_count": 4,
   "id": "8282644e",
   "metadata": {},
   "outputs": [],
   "source": [
    "def add_cols_to_df(df):\n",
    "    df['PROCESSORS'] = None\n",
    "    df['BASE_CLOCK'] = None\n",
    "    df['BOOST_CLOCK'] = None\n",
    "    df['MEMORY_CONFIG'] = None\n",
    "    df['INTERFACE_WIDTH'] = None\n",
    "    \n",
    "    for index, row in df.iterrows():\n",
    "        gpu_name = row['GPU']\n",
    "        match gpu_name:\n",
    "            case \"Radeon RX Vega\":\n",
    "                df.at[index, 'PROCESSORS'] = 4096\n",
    "                df.at[index, 'BASE_CLOCK'] = 1.25\n",
    "                df.at[index, 'BOOST_CLOCK'] = 1.55\n",
    "                df.at[index, 'MEMORY_CONFIG'] = 8\n",
    "                df.at[index, 'INTERFACE_WIDTH'] = 2048\n",
    "            case \"NVIDIA GeForce GTX 1080 Ti\":\n",
    "                df.at[index, 'PROCESSORS'] = 3584\n",
    "                df.at[index, 'BASE_CLOCK'] = 1.48\n",
    "                df.at[index, 'BOOST_CLOCK'] = 1.58\n",
    "                df.at[index, 'MEMORY_CONFIG'] = 11\n",
    "                df.at[index, 'INTERFACE_WIDTH'] = 352\n",
    "            case \"NVIDIA GeForce RTX 2080 SUPER\":\n",
    "                df.at[index, 'PROCESSORS'] = 3072\n",
    "                df.at[index, 'BASE_CLOCK'] = 1.65\n",
    "                df.at[index, 'BOOST_CLOCK'] = 1.82\n",
    "                df.at[index, 'MEMORY_CONFIG'] = 8\n",
    "                df.at[index, 'INTERFACE_WIDTH'] = 256\n",
    "            case \"NVIDIA GeForce RTX 3070\":\n",
    "                df.at[index, 'PROCESSORS'] = 5888\n",
    "                df.at[index, 'BASE_CLOCK'] = 1.50\n",
    "                df.at[index, 'BOOST_CLOCK'] = 1.73\n",
    "                df.at[index, 'MEMORY_CONFIG'] = 8\n",
    "                df.at[index, 'INTERFACE_WIDTH'] = 256\n",
    "            case \"NVIDIA GeForce RTX 3090\":\n",
    "                df.at[index, 'PROCESSORS'] = 10496\n",
    "                df.at[index, 'BASE_CLOCK'] = 1.40\n",
    "                df.at[index, 'BOOST_CLOCK'] = 1.70\n",
    "                df.at[index, 'MEMORY_CONFIG'] = 24\n",
    "                df.at[index, 'INTERFACE_WIDTH'] = 384\n",
    "            case \"NVIDIA RTX A4000\":\n",
    "                df.at[index, 'PROCESSORS'] = 6144\n",
    "                df.at[index, 'BASE_CLOCK'] = 0.74\n",
    "                df.at[index, 'BOOST_CLOCK'] = 1.56\n",
    "                df.at[index, 'MEMORY_CONFIG'] = 16\n",
    "                df.at[index, 'INTERFACE_WIDTH'] = 256\n",
    "    return df\n"
   ]
  },
  {
   "cell_type": "code",
   "execution_count": 5,
   "id": "c7abe1bf",
   "metadata": {},
   "outputs": [],
   "source": [
    "def choose(change):\n",
    "    file = change['new']\n",
    "    path = os.path.join(folder, file)\n",
    "    df = pd.read_csv(path, index_col=False)\n",
    "    df = add_cols_to_df(df)\n",
    "    df_to_corr = df.iloc[:, 2:]\n",
    "    matrix = df_to_corr.corr()\n",
    "    \n",
    "    with output:\n",
    "        clear_output(wait=True)\n",
    "        display(HTML('<div style=\"width: 100%; overflow: auto;\">'))\n",
    "        display(HTML('<H3><center>' + os.path.splitext(file)[0]))\n",
    "        display(matrix.style.background_gradient(cmap='coolwarm'))\n",
    "        display(HTML('</div>'))\n",
    "        plt.figure(figsize=(10, 8))\n",
    "        plt.imshow(matrix, cmap='coolwarm', interpolation='nearest')\n",
    "        plt.colorbar()\n",
    "        plt.xticks(np.arange(len(df.columns[2:])), df.columns[2:], rotation=90)\n",
    "        plt.yticks(np.arange(len(df.columns[2:])), df.columns[2:])\n",
    "        plt.title('Correlation Matrix')\n",
    "        plt.show()"
   ]
  },
  {
   "cell_type": "code",
   "execution_count": 6,
   "id": "4601794d",
   "metadata": {},
   "outputs": [
    {
     "data": {
      "application/vnd.jupyter.widget-view+json": {
       "model_id": "602bd7e39b4d4f43848254003529206c",
       "version_major": 2,
       "version_minor": 0
      },
      "text/plain": [
       "Dropdown(description='File:', options=('1Password, agilekeychain.csv', '1Password, cloudkeychain.csv', '3DES(P…"
      ]
     },
     "metadata": {},
     "output_type": "display_data"
    },
    {
     "data": {
      "application/vnd.jupyter.widget-view+json": {
       "model_id": "6062ad04e4944b8286feecae3570d910",
       "version_major": 2,
       "version_minor": 0
      },
      "text/plain": [
       "Output()"
      ]
     },
     "metadata": {},
     "output_type": "display_data"
    }
   ],
   "source": [
    "def calculate_correlations(file_name):\n",
    "    path = os.path.join(folder, file_name)\n",
    "    df = pd.read_csv(path, index_col=False)\n",
    "    df = add_cols_to_df(df)\n",
    "\n",
    "    # Filter the DataFrame to include both \"median\" columns and GPU data columns\n",
    "    median_cols = [col for col in df.columns if \"median\" in col.lower()]\n",
    "    gpu_cols = ['PROCESSORS', 'BASE_CLOCK', 'BOOST_CLOCK', 'MEMORY_CONFIG', 'INTERFACE_WIDTH']\n",
    "    cols_to_corr = median_cols + gpu_cols\n",
    "    df_to_corr = df[[\"CONFIG\"] + cols_to_corr]\n",
    "\n",
    "    # Group by \"CONFIG\" column\n",
    "    grouped_configs = df_to_corr.groupby(\"CONFIG\")\n",
    "    correlations_by_config = {}\n",
    "\n",
    "    for config, df_config in grouped_configs:\n",
    "        matrix = df_config.set_index(\"CONFIG\").corr()\n",
    "        correlations_by_config[config] = matrix\n",
    "\n",
    "    # Display correlation matrices for each CONFIG\n",
    "    with output:\n",
    "        clear_output(wait=True)\n",
    "        print(f\"Correlation Matrices for {os.path.splitext(file_name)[0]}\")\n",
    "        for config, matrix in correlations_by_config.items():\n",
    "            print(f\"Median Correlation Matrix for CONFIG: {config}\")\n",
    "            vmin, vmax = 0, 1  # Set vmin and vmax for the heatmap\n",
    "            if np.isnan(matrix.to_numpy()).all():\n",
    "                # If the matrix contains all NaNs, set vmin and vmax to None\n",
    "                vmin, vmax = None, None\n",
    "\n",
    "            display(matrix.style.background_gradient(cmap='coolwarm', vmin=vmin, vmax=vmax))\n",
    "            print(f\"Correlation matrix shape: {matrix.shape}\")\n",
    "\n",
    "            plt.figure(figsize=(10, 8))\n",
    "            plt.imshow(matrix, cmap='coolwarm', interpolation='nearest', vmin=vmin, vmax=vmax)\n",
    "            plt.colorbar()\n",
    "            plt.xticks(np.arange(len(matrix.columns)), matrix.columns, rotation=90)\n",
    "            plt.yticks(np.arange(len(matrix.columns)), matrix.columns)\n",
    "            plt.title(f'Median Correlation Matrix for CONFIG: {config} in {os.path.splitext(file_name)[0]}')\n",
    "            plt.show()\n",
    "\n",
    "file_dropdown = widgets.Dropdown(options=files, description='File:')\n",
    "\n",
    "output = widgets.Output()\n",
    "\n",
    "def update_output(*args):\n",
    "    file_name = file_dropdown.value\n",
    "    calculate_correlations(file_name)\n",
    "\n",
    "file_dropdown.observe(update_output, 'value')\n",
    "\n",
    "# Display the widgets and output\n",
    "display(file_dropdown)\n",
    "display(output)\n",
    "\n",
    "# Initially, display results for the first file\n",
    "calculate_correlations(files[0])\n"
   ]
  },
  {
   "cell_type": "code",
   "execution_count": 7,
   "id": "f2c1d9e6",
   "metadata": {
    "scrolled": false
   },
   "outputs": [
    {
     "data": {
      "application/vnd.jupyter.widget-view+json": {
       "model_id": "f69bf85239604268aada54d69c5cf3b2",
       "version_major": 2,
       "version_minor": 0
      },
      "text/plain": [
       "Dropdown(description='File:', options=('1Password, agilekeychain.csv', '1Password, cloudkeychain.csv', '3DES(P…"
      ]
     },
     "metadata": {},
     "output_type": "display_data"
    },
    {
     "data": {
      "application/vnd.jupyter.widget-view+json": {
       "model_id": "e4a6ee91463c45d0a226e6d00c0e224f",
       "version_major": 2,
       "version_minor": 0
      },
      "text/plain": [
       "Output()"
      ]
     },
     "metadata": {},
     "output_type": "display_data"
    }
   ],
   "source": [
    "def calculate_correlations(file_name):\n",
    "    path = os.path.join(folder, file_name)\n",
    "    df = pd.read_csv(path, index_col=False)\n",
    "    df = add_cols_to_df(df)\n",
    "\n",
    "    # Filter the DataFrame to include both \"median\" columns and GPU data columns\n",
    "    median_cols = [\"SPEED_MEDIAN\", \"MEM_USED_MEDIAN\", \"MEM_UTIL_MEDIAN\"]\n",
    "    gpu_cols = ['PROCESSORS', 'BASE_CLOCK', 'BOOST_CLOCK', 'MEMORY_CONFIG', 'INTERFACE_WIDTH']\n",
    "    cols_to_corr = median_cols + gpu_cols\n",
    "    df_to_corr = df[[\"CONFIG\"] + cols_to_corr]\n",
    "\n",
    "    # Group by \"CONFIG\" column\n",
    "    grouped_configs = df_to_corr.groupby(\"CONFIG\")\n",
    "    correlations_by_config = {}  # Dictionary to store correlation matrices for each CONFIG\n",
    "\n",
    "    for config, df_config in grouped_configs:\n",
    "        matrix = df_config.set_index(\"CONFIG\").corr()\n",
    "        correlations_by_config[config] = matrix\n",
    "\n",
    "    # Display correlation matrices for each CONFIG\n",
    "    with output:\n",
    "        clear_output(wait=True)\n",
    "        print(f\"Correlation Matrices for {os.path.splitext(file_name)[0]}\")\n",
    "        for config, matrix in correlations_by_config.items():\n",
    "            print(f\"Median Correlation Matrix for CONFIG: {config}\")\n",
    "            vmin, vmax = 0, 1  # Set vmin and vmax for the heatmap\n",
    "            if np.isnan(matrix.to_numpy()).all():\n",
    "                # If the matrix contains all NaNs, set vmin and vmax to None\n",
    "                vmin, vmax = None, None\n",
    "\n",
    "            display(matrix.style.background_gradient(cmap='coolwarm', vmin=vmin, vmax=vmax))\n",
    "            print(f\"Correlation matrix shape: {matrix.shape}\")\n",
    "\n",
    "            plt.figure(figsize=(10, 8))\n",
    "            plt.imshow(matrix, cmap='coolwarm', interpolation='nearest', vmin=vmin, vmax=vmax)\n",
    "            plt.colorbar()\n",
    "            plt.xticks(np.arange(len(matrix.columns)), matrix.columns, rotation=90)\n",
    "            plt.yticks(np.arange(len(matrix.columns)), matrix.columns)\n",
    "            plt.title(f'Median Correlation Matrix for CONFIG: {config} in {os.path.splitext(file_name)[0]}')\n",
    "            plt.show()\n",
    "\n",
    "# Create the interactive dropdown widget\n",
    "file_dropdown = widgets.Dropdown(options=files, description='File:')\n",
    "\n",
    "# Create an output widget to display the results\n",
    "output = widgets.Output()\n",
    "\n",
    "# Function to update the output when a new file is selected\n",
    "def update_output(*args):\n",
    "    file_name = file_dropdown.value\n",
    "    calculate_correlations(file_name)\n",
    "\n",
    "file_dropdown.observe(update_output, 'value')\n",
    "\n",
    "# Display the widgets and output\n",
    "display(file_dropdown)\n",
    "display(output)\n",
    "\n",
    "# Initially, display results for the first file\n",
    "calculate_correlations(files[0])\n"
   ]
  },
  {
   "cell_type": "code",
   "execution_count": null,
   "id": "b6d127d3",
   "metadata": {},
   "outputs": [],
   "source": []
  }
 ],
 "metadata": {
  "kernelspec": {
   "display_name": "Python 3 (ipykernel)",
   "language": "python",
   "name": "python3"
  },
  "language_info": {
   "codemirror_mode": {
    "name": "ipython",
    "version": 3
   },
   "file_extension": ".py",
   "mimetype": "text/x-python",
   "name": "python",
   "nbconvert_exporter": "python",
   "pygments_lexer": "ipython3",
   "version": "3.10.11"
  }
 },
 "nbformat": 4,
 "nbformat_minor": 5
}
