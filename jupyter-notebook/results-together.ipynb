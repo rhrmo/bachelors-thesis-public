{
 "cells": [
  {
   "cell_type": "code",
   "execution_count": 1,
   "id": "ae83941a",
   "metadata": {},
   "outputs": [],
   "source": [
    "import pandas as pd\n",
    "from IPython.display import display, HTML, clear_output\n",
    "import os\n",
    "from ipywidgets import interact, widgets\n",
    "import numpy as np\n",
    "import matplotlib.pyplot as plt\n",
    "\n",
    "pd.set_option('display.float_format', '{:.4f}'.format)\n",
    "pd.set_option('display.max_columns', None)\n",
    "pd.set_option('display.max_rows', None)\n",
    "\n",
    "def choose(change):\n",
    "    file = change['new']\n",
    "    path = os.path.join(folder, file)\n",
    "    df = pd.read_csv(path, index_col=False)\n",
    "    df = add_cols_to_df(df)\n",
    "    df_to_corr = df.iloc[:, 3:]\n",
    "    matrix = df_to_corr.corr()\n",
    "    \n",
    "    with output:\n",
    "        clear_output(wait=True)\n",
    "        display(HTML('<div style=\"width: 100%; overflow: auto;\">'))\n",
    "        display(HTML('<H3><center>' + os.path.splitext(file)[0]))\n",
    "        display(matrix.style.background_gradient(cmap='coolwarm'))  # Display the correlation matrix\n",
    "        display(HTML('</div>'))\n",
    "        plt.figure(figsize=(10, 8))\n",
    "        plt.imshow(matrix, cmap='coolwarm', interpolation='nearest')\n",
    "        plt.colorbar()\n",
    "        plt.xticks(np.arange(len(df.columns[3:])), df.columns[3:], rotation=90)\n",
    "        plt.yticks(np.arange(len(df.columns[3:])), df.columns[3:])\n",
    "        plt.title('Correlation Matrix')\n",
    "        plt.show()"
   ]
  },
  {
   "cell_type": "code",
   "execution_count": 2,
   "id": "70fa7b43",
   "metadata": {},
   "outputs": [
    {
     "name": "stdout",
     "output_type": "stream",
     "text": [
      "Input folder location\n",
      "E:\\BP\\bachelors-thesis-main\\output\\results-together\\\n"
     ]
    }
   ],
   "source": [
    "print(\"Input folder location\")\n",
    "folder = input()\n",
    "files = os.listdir(folder)\n",
    "#output\\results-together\\"
   ]
  },
  {
   "cell_type": "code",
   "execution_count": 3,
   "id": "d18d580c",
   "metadata": {},
   "outputs": [],
   "source": [
    "def add_cols_to_df(df):\n",
    "    df['PROCESSORS'] = None\n",
    "    df['BASE_CLOCK'] = None\n",
    "    df['BOOST_CLOCK'] = None\n",
    "    df['MEMORY_CONFIG'] = None\n",
    "    df['INTERFACE_WIDTH'] = None\n",
    "    \n",
    "    for index, row in df.iterrows():\n",
    "        gpu_name = row['GPU']\n",
    "        match gpu_name:\n",
    "            case \"Radeon RX Vega\":\n",
    "                df.at[index, 'PROCESSORS'] = 4096\n",
    "                df.at[index, 'BASE_CLOCK'] = 1.25\n",
    "                df.at[index, 'BOOST_CLOCK'] = 1.55\n",
    "                df.at[index, 'MEMORY_CONFIG'] = 8\n",
    "                df.at[index, 'INTERFACE_WIDTH'] = 2048\n",
    "            case \"NVIDIA GeForce GTX 1080 Ti\":\n",
    "                df.at[index, 'PROCESSORS'] = 3584\n",
    "                df.at[index, 'BASE_CLOCK'] = 1.48\n",
    "                df.at[index, 'BOOST_CLOCK'] = 1.58\n",
    "                df.at[index, 'MEMORY_CONFIG'] = 11\n",
    "                df.at[index, 'INTERFACE_WIDTH'] = 352\n",
    "            case \"NVIDIA GeForce RTX 2080 SUPER\":\n",
    "                df.at[index, 'PROCESSORS'] = 3072\n",
    "                df.at[index, 'BASE_CLOCK'] = 1.65\n",
    "                df.at[index, 'BOOST_CLOCK'] = 1.82\n",
    "                df.at[index, 'MEMORY_CONFIG'] = 8\n",
    "                df.at[index, 'INTERFACE_WIDTH'] = 256\n",
    "            case \"NVIDIA GeForce RTX 3070\":\n",
    "                df.at[index, 'PROCESSORS'] = 5888\n",
    "                df.at[index, 'BASE_CLOCK'] = 1.50\n",
    "                df.at[index, 'BOOST_CLOCK'] = 1.73\n",
    "                df.at[index, 'MEMORY_CONFIG'] = 8\n",
    "                df.at[index, 'INTERFACE_WIDTH'] = 256\n",
    "            case \"NVIDIA GeForce RTX 3090\":\n",
    "                df.at[index, 'PROCESSORS'] = 10496\n",
    "                df.at[index, 'BASE_CLOCK'] = 1.40\n",
    "                df.at[index, 'BOOST_CLOCK'] = 1.70\n",
    "                df.at[index, 'MEMORY_CONFIG'] = 24\n",
    "                df.at[index, 'INTERFACE_WIDTH'] = 384\n",
    "            case \"NVIDIA RTX A4000\":\n",
    "                df.at[index, 'PROCESSORS'] = 6144\n",
    "                df.at[index, 'BASE_CLOCK'] = 0.74\n",
    "                df.at[index, 'BOOST_CLOCK'] = 1.56\n",
    "                df.at[index, 'MEMORY_CONFIG'] = 16\n",
    "                df.at[index, 'INTERFACE_WIDTH'] = 256\n",
    "    return df\n"
   ]
  },
  {
   "cell_type": "code",
   "execution_count": 4,
   "id": "56dc5b92",
   "metadata": {
    "scrolled": false
   },
   "outputs": [
    {
     "data": {
      "application/vnd.jupyter.widget-view+json": {
       "model_id": "c8f32f29baea4f77b1f7da7dc73823bf",
       "version_major": 2,
       "version_minor": 0
      },
      "text/plain": [
       "Dropdown(options=('combinator.csv', 'dict1.csv', 'dict2.csv', 'dict3.csv', 'dict4.csv', 'force.csv', 'hybrid.c…"
      ]
     },
     "metadata": {},
     "output_type": "display_data"
    },
    {
     "data": {
      "application/vnd.jupyter.widget-view+json": {
       "model_id": "de28608448e84b6b833931a1aaa8d244",
       "version_major": 2,
       "version_minor": 0
      },
      "text/plain": [
       "Output()"
      ]
     },
     "metadata": {},
     "output_type": "display_data"
    }
   ],
   "source": [
    "if len(files) > 0:\n",
    "    selected_file = files[0]\n",
    "else:\n",
    "    selected_file = None\n",
    "\n",
    "output = widgets.Output()\n",
    "dropdown = widgets.Dropdown(options=files, value=selected_file)\n",
    "dropdown.observe(choose, names='value')\n",
    "\n",
    "if selected_file:\n",
    "    choose({'new': selected_file})\n",
    "\n",
    "display(dropdown)\n",
    "display(output)"
   ]
  },
  {
   "cell_type": "code",
   "execution_count": null,
   "id": "fec6ee23",
   "metadata": {},
   "outputs": [],
   "source": []
  }
 ],
 "metadata": {
  "kernelspec": {
   "display_name": "Python 3 (ipykernel)",
   "language": "python",
   "name": "python3"
  },
  "language_info": {
   "codemirror_mode": {
    "name": "ipython",
    "version": 3
   },
   "file_extension": ".py",
   "mimetype": "text/x-python",
   "name": "python",
   "nbconvert_exporter": "python",
   "pygments_lexer": "ipython3",
   "version": "3.10.11"
  }
 },
 "nbformat": 4,
 "nbformat_minor": 5
}
